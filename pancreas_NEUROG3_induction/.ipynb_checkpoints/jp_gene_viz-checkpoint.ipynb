{
 "cells": [
  {
   "cell_type": "code",
   "execution_count": 1,
   "metadata": {},
   "outputs": [],
   "source": [
    "# Visualization of TF-TF module analyses for POSITIVE EDGES (57 clusters) Top 15, most\n",
    "# significant clusters.\n",
    "# Pokrovskii,... Miraldi et al. (2019) \"Transcriptional regulatory networks that promote and\n",
    "# restrict identities and functions of intestinal innate lymphoid cells\"\n",
    "\n",
    "# TO START: In the menu above, choose \"Cell\" --> \"Run All\", and network + heatmap will load\n",
    "# NOTE: Default limits networks to TF-TF edges in top 1 TF / gene model (.93 quantile), to see the full\n",
    "# network hit \"restore\" (in the drop-down menu in cell below) and set threshold to 0 and hit \"threshold\"\n",
    "# You can search for gene names in the search box below the network (hit \"Match\"), and find regulators (\"targeted by\")\n",
    "# Change \"canvas\" to \"SVG\" (drop-down menu in cell below) to enable drag interactions with nodes & labels\n",
    "# Change \"SVG\" to \"canvas\" to speed up layout operations\n",
    "# More info about jp_gene_viz and user interface instructions are available on Github:\n",
    "# https://github.com/simonsfoundation/jp_gene_viz/blob/master/doc/dNetwork%20widget%20overview.ipynb"
   ]
  },
  {
   "cell_type": "code",
   "execution_count": 7,
   "metadata": {},
   "outputs": [],
   "source": [
    "# Edge key:\n",
    "# Solid lines -- supported by ATAC-seq data and gene expression modeling\n",
    "# Dotted lines -- supported by gene expression modeling only\n",
    "\n",
    "## Note there are three different ways to visualize modules and target genes:\n",
    "# 1.  \"union\" -- look at the union of all module TF gene targets (least stringent)\n",
    "# 2.  \"min2\" -- limit to target genes shared by minimum of 2 module TFs\n",
    "# 3.  \"p50\" -- limit to target genes shared by >50% of module TFs (most stringent, helpful\n",
    "#         for finding a common set of target genes in larger clusters)\n",
    "targetDefinition = 'min2'  # you can set this parameter"
   ]
  },
  {
   "cell_type": "code",
   "execution_count": 16,
   "metadata": {},
   "outputs": [],
   "source": [
    "cond_time=8\n",
    "# directory containing gene expression data and network folder\n",
    "directory = \".\"\n",
    "# folder containing networks\n",
    "netPath = \"outputs/networks_targ0p05_SS50_bS5/Network0p05_10tfsPerGene/prior_atac_Miraldi_q_ChIP_bias10_maxComb/prior_atac_Miraldi_q_ChIP_bias10_maxComb_cut01/zOverlaps_combEdge_fdr0.001_tfMin20_targMin1_%dhpi\"%cond_time\n",
    "\n",
    "# gene expression file\n",
    "expressionFile = \"inputs/geneExpression/RNAseq_8_DESeq2_VSDcounts.txt\" #\"fineILCs_uv156_VSTcounts_zscore_FDR10_genes_clust.tsv\"\n",
    "initialNodeCondition = 'WT_pan_100_%dhpi'%cond_time\n",
    "\n",
    "# set model size, mean # of TFs / genes, with maximum being ~10 TFs / gene\n",
    "tfsPerGene = 10\n",
    "\n",
    "labelsOn=False"
   ]
  },
  {
   "cell_type": "code",
   "execution_count": 14,
   "metadata": {},
   "outputs": [
    {
     "ename": "ImportError",
     "evalue": "cannot import name dNetwork",
     "output_type": "error",
     "traceback": [
      "\u001b[0;31m---------------------------------------------------------------------------\u001b[0m",
      "\u001b[0;31mImportError\u001b[0m                               Traceback (most recent call last)",
      "\u001b[0;32m<ipython-input-14-ae65ec795718>\u001b[0m in \u001b[0;36m<module>\u001b[0;34m()\u001b[0m\n\u001b[1;32m      4\u001b[0m \u001b[0;32mif\u001b[0m \u001b[0;34m\"..\"\u001b[0m \u001b[0;32mnot\u001b[0m \u001b[0;32min\u001b[0m \u001b[0msys\u001b[0m\u001b[0;34m.\u001b[0m\u001b[0mpath\u001b[0m\u001b[0;34m:\u001b[0m\u001b[0;34m\u001b[0m\u001b[0m\n\u001b[1;32m      5\u001b[0m     \u001b[0msys\u001b[0m\u001b[0;34m.\u001b[0m\u001b[0mpath\u001b[0m\u001b[0;34m.\u001b[0m\u001b[0mappend\u001b[0m\u001b[0;34m(\u001b[0m\u001b[0;34m\"..\"\u001b[0m\u001b[0;34m)\u001b[0m\u001b[0;34m\u001b[0m\u001b[0m\n\u001b[0;32m----> 6\u001b[0;31m \u001b[0;32mfrom\u001b[0m \u001b[0mjp_gene_viz\u001b[0m \u001b[0;32mimport\u001b[0m \u001b[0mdNetwork\u001b[0m\u001b[0;34m\u001b[0m\u001b[0m\n\u001b[0m\u001b[1;32m      7\u001b[0m \u001b[0mdNetwork\u001b[0m\u001b[0;34m.\u001b[0m\u001b[0mload_javascript_support\u001b[0m\u001b[0;34m(\u001b[0m\u001b[0;34m)\u001b[0m\u001b[0;34m\u001b[0m\u001b[0m\n\u001b[1;32m      8\u001b[0m \u001b[0;32mfrom\u001b[0m \u001b[0mjp_gene_viz\u001b[0m \u001b[0;32mimport\u001b[0m \u001b[0mLExpression\u001b[0m\u001b[0;34m\u001b[0m\u001b[0m\n",
      "\u001b[0;32m/Users/user/Desktop/big-data_analysis/NGS_XZ/NGS/mLASSO-StARS/modeling/infTRN_lassoStARS/pancreas_NEUROG3_induction/jp_gene_viz.py\u001b[0m in \u001b[0;36m<module>\u001b[0;34m()\u001b[0m\n\u001b[1;32m     44\u001b[0m \u001b[0;32mif\u001b[0m \u001b[0;34m\"..\"\u001b[0m \u001b[0;32mnot\u001b[0m \u001b[0;32min\u001b[0m \u001b[0msys\u001b[0m\u001b[0;34m.\u001b[0m\u001b[0mpath\u001b[0m\u001b[0;34m:\u001b[0m\u001b[0;34m\u001b[0m\u001b[0m\n\u001b[1;32m     45\u001b[0m     \u001b[0msys\u001b[0m\u001b[0;34m.\u001b[0m\u001b[0mpath\u001b[0m\u001b[0;34m.\u001b[0m\u001b[0mappend\u001b[0m\u001b[0;34m(\u001b[0m\u001b[0;34m\"..\"\u001b[0m\u001b[0;34m)\u001b[0m\u001b[0;34m\u001b[0m\u001b[0m\n\u001b[0;32m---> 46\u001b[0;31m \u001b[0;32mfrom\u001b[0m \u001b[0mjp_gene_viz\u001b[0m \u001b[0;32mimport\u001b[0m \u001b[0mdNetwork\u001b[0m\u001b[0;34m\u001b[0m\u001b[0m\n\u001b[0m\u001b[1;32m     47\u001b[0m \u001b[0mdNetwork\u001b[0m\u001b[0;34m.\u001b[0m\u001b[0mload_javascript_support\u001b[0m\u001b[0;34m(\u001b[0m\u001b[0;34m)\u001b[0m\u001b[0;34m\u001b[0m\u001b[0m\n\u001b[1;32m     48\u001b[0m \u001b[0;32mfrom\u001b[0m \u001b[0mjp_gene_viz\u001b[0m \u001b[0;32mimport\u001b[0m \u001b[0mLExpression\u001b[0m\u001b[0;34m\u001b[0m\u001b[0m\n",
      "\u001b[0;31mImportError\u001b[0m: cannot import name dNetwork"
     ]
    }
   ],
   "source": [
    "import glob\n",
    "import os\n",
    "import sys\n",
    "if \"..\" not in sys.path:\n",
    "    sys.path.append(\"..\")\n",
    "from jp_gene_viz import dNetwork\n",
    "dNetwork.load_javascript_support()\n",
    "from jp_gene_viz import LExpression\n",
    "LExpression.load_javascript_support()\n",
    "\n",
    "currCol = initialNodeCondition\n",
    "directory = \".\"\n",
    "for networkFile in glob.glob(directory + '/' + netPath + '/*_' + targetDefinition +  'Targs_sp.tsv'):\n",
    "    networkName = networkFile.replace(directory+'/'+netPath+'/','')\n",
    "    networkName = networkName.replace('_' + targetDefinition +  'Targs_sp.tsv','')\n",
    "    L = LExpression.LinkedExpressionNetwork()\n",
    "    L.show()\n",
    "    L.load_network(networkFile)\n",
    "    L.load_heatmap(directory + '/' + expressionFile)\n",
    "    N = L.network\n",
    "    N.set_title(networkName.replace('_',' '))\n",
    "\n",
    "    # set threshold\n",
    "    threshhold = max(0,1-float(tfsPerGene)/10) # because we're dealing with networks that have mean 10 TFs / gene\n",
    "    N.threshhold_slider.value = threshhold\n",
    "    N.apply_click(None)\n",
    "    N.draw()\n",
    "\n",
    "    # apply network layout\n",
    "    N.layout_dropdownvalue = 'fruchterman_reingold'\n",
    "    N.layout_click(None)\n",
    "\n",
    "    # z-score gene expression for nodes\n",
    "    L.gene_click(None)\n",
    "    L.expression.transform_dropdown.value = 'Z score'\n",
    "    L.expression.apply_transform()\n",
    "    L.expression.col = currCol\n",
    "    L.condition_click(None)\n",
    "\n",
    "    # turn on labels\n",
    "    N.labels_button.value=labelsOn\n",
    "    N.draw_click(None)\n"
   ]
  },
  {
   "cell_type": "code",
   "execution_count": null,
   "metadata": {},
   "outputs": [],
   "source": []
  }
 ],
 "metadata": {
  "kernelspec": {
   "display_name": "Python 2",
   "language": "python",
   "name": "python2"
  },
  "language_info": {
   "codemirror_mode": {
    "name": "ipython",
    "version": 2
   },
   "file_extension": ".py",
   "mimetype": "text/x-python",
   "name": "python",
   "nbconvert_exporter": "python",
   "pygments_lexer": "ipython2",
   "version": "2.7.15"
  }
 },
 "nbformat": 4,
 "nbformat_minor": 2
}
