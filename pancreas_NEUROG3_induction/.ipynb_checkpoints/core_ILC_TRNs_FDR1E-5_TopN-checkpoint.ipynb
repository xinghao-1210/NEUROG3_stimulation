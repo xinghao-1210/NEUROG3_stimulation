{
 "cells": [
  {
   "cell_type": "code",
   "execution_count": 1,
   "metadata": {},
   "outputs": [],
   "source": [
    "# Visualization of core TRNs unique to or shared by specific ILC subsets (ILC1, NK, ILC2, CCR6+ILC3, CCR6-ILC3)\n",
    "# Pokrovskii,... Miraldi et al. (2019) \"Transcriptional regulatory networks that promote and \n",
    "# restrict identities and functions of intestinal innate lymphoid cells\"\n",
    "\n",
    "# TO START: In the menu above, choose \"Cell\" --> \"Run All\", and network + heatmap will load\n",
    "# NOTE: Default limits networks to TF-TF edges in top 1 TF / gene model (.93 quantile), to see the full \n",
    "# network hit \"restore\" (in the drop-down menu in cell below) and set threshold to 0 and hit \"threshold\"\n",
    "# You can search for gene names in the search box below the network (hit \"Match\"), and find regulators (\"targeted by\")\n",
    "# Change \"canvas\" to \"SVG\" (drop-down menu in cell below) to enable drag interactions with nodes & labels\n",
    "# Change \"SVG\" to \"canvas\" to speed up layout operations\n",
    "# More info about jp_gene_viz and user interface instructions are available on Github: \n",
    "# https://github.com/simonsfoundation/jp_gene_viz/blob/master/doc/dNetwork%20widget%20overview.ipynb\n",
    "\n",
    "# Edge key: \n",
    "# Solid lines -- supported by ATAC-seq data and gene expression modeling\n",
    "# Dotted lines -- supported by gene expression modeling only"
   ]
  },
  {
   "cell_type": "code",
   "execution_count": 2,
   "metadata": {},
   "outputs": [],
   "source": [
    "# Please choose how many TFs you'd like per network.\n",
    "# Options are limited to Top: \"5\", \"10\", \"15\", or \"Inf\" (Inf == no limit) that were significantly enriched per TF\n",
    "topN = \"10\"\n",
    "\n",
    "# directory containing gene expression data and network folder\n",
    "directory = \".\"\n",
    "# folder containing networks\n",
    "netPath = \"qATAC_10_1_bias25_maxComb/ILCupDownSetsSI_2fdr1p0E-05_top\" + topN\n",
    "\n",
    "# coreTF_analysis_sharedUnique_cellstr_heatMap_FDR1E5\n",
    "\n",
    "# networkInits is a list of tuples (network file, sample to color expression, title of network)\n",
    "networkInits = [\n",
    "    ('NK_sp.tsv','NK_SI_3','NK, SI'),\n",
    "    ('ILC1_NK_sp.tsv','ILC1_SI_3','ILC1 & NK, SI'),\n",
    "    ('ILC1_sp.tsv','ILC1_SI_3','ILC1, SI'),\n",
    "    ('CCR6mILC3_sp.tsv','CCR6-ILC3_SI_1','CCR6-ILC3, SI'),\n",
    "    ('CCR6pILC3_CCR6mILC3_sp.tsv','CCR6+ILC3s_SI_3','ILC3 (CCR6+ & CCR6-), SI'),\n",
    "    ('CCR6pILC3_sp.tsv','CCR6+ILC3s_SI_3','CCR6+ILC3'),    \n",
    "    ('ILC2_sp.tsv','ILC2_SI_2','ILC2, SI'),\n",
    "    ('ILC3_ILC1_NK_combined_sp.tsv','CCR6-ILC3_SI_1','ILC3 and (ILC1 OR NK), SI'),\n",
    "    ('CCR6mILC3_ILC1_ILC2_sp.tsv','CCR6-ILC3_SI_1','ILC1, ILC2 & CCR6-ILC3, SI'),\n",
    "    ('CCR6mILC3_ILC1_NK_sp.tsv','CCR6-ILC3_SI_1','ILC1, NK, & CCR6-ILC3, SI'),\n",
    "    ('CCR6mILC3_ILC1_sp.tsv','CCR6-ILC3_SI_1','ILC1 & CCR6-ILC3, SI'),\n",
    "    ('CCR6mILC3_ILC2_sp.tsv','CCR6-ILC3_SI_1','ILC2 & CCR6-ILC2, SI'),\n",
    "    ('CCR6mILC3_NK_sp.tsv','CCR6-ILC3_SI_1','NK & CCR6-ILC3, SI'),    \n",
    "    ('CCR6pILC3_CCR6mILC3_ILC1_ILC2_sp.tsv','CCR6+ILC3s_SI_3','ILC2 & ILC3, SI'),\n",
    "    ('CCR6pILC3_CCR6mILC3_ILC1_sp.tsv','CCR6+ILC3s_SI_3','ILC1 & ILC3, SI'),\n",
    "    ('CCR6pILC3_CCR6mILC3_NK_sp.tsv','CCR6+ILC3s_SI_3','NK & ILC3, SI'),\n",
    "    ('CCR6pILC3_ILC1_NK_sp.tsv','CCR6+ILC3s_SI_3','CCR6+ILC3, ILC1 & NK, SI'),\n",
    "    ('CCR6pILC3_ILC1_sp.tsv','CCR6+ILC3s_SI_3','CCR6+ILC3 & ILC1, SI'),\n",
    "    ('CCR6pILC3_ILC2_sp.tsv','CCR6+ILC3s_SI_3','CCR6+ILC3 & ILC2, SI'),\n",
    "    ('CCR6pILC3_NK_sp.tsv','CCR6+ILC3s_SI_3','CCR6+ILC3 & NK, SI'),\n",
    "    ('NK_ILC2_sp.tsv','NK_SI_3','NK & ILC2, SI')]\n",
    "\n",
    "# name of gene expression file\n",
    "expressionFile = \"GeneExpression/fineILCs_uv156_VSTcounts.txt\" #\"fineILCs_uv156_VSTcounts_zscore_FDR10_genes_clust.tsv\"\n",
    "\n",
    "# For ease of visualization, limit target genes to cytokines, chemokines, receptors. Hit \"Restore\" button to see\n",
    "# all target genes in the TRN.\n",
    "geneListFile = \"GeneSets/chemokineReceptorsKlrs.txt\"\n",
    "\n",
    "# set model size, mean # of TFs / genes, with maximum being ~10 TFs / gene\n",
    "tfsPerGene = 10"
   ]
  },
  {
   "cell_type": "code",
   "execution_count": 3,
   "metadata": {},
   "outputs": [
    {
     "ename": "ImportError",
     "evalue": "cannot import name dNetwork",
     "output_type": "error",
     "traceback": [
      "\u001b[0;31m---------------------------------------------------------------------------\u001b[0m",
      "\u001b[0;31mImportError\u001b[0m                               Traceback (most recent call last)",
      "\u001b[0;32m<ipython-input-3-eb65961bcc3f>\u001b[0m in \u001b[0;36m<module>\u001b[0;34m()\u001b[0m\n\u001b[1;32m      3\u001b[0m \u001b[0;32mif\u001b[0m \u001b[0;34m\"..\"\u001b[0m \u001b[0;32mnot\u001b[0m \u001b[0;32min\u001b[0m \u001b[0msys\u001b[0m\u001b[0;34m.\u001b[0m\u001b[0mpath\u001b[0m\u001b[0;34m:\u001b[0m\u001b[0;34m\u001b[0m\u001b[0m\n\u001b[1;32m      4\u001b[0m     \u001b[0msys\u001b[0m\u001b[0;34m.\u001b[0m\u001b[0mpath\u001b[0m\u001b[0;34m.\u001b[0m\u001b[0mappend\u001b[0m\u001b[0;34m(\u001b[0m\u001b[0;34m\"..\"\u001b[0m\u001b[0;34m)\u001b[0m\u001b[0;34m\u001b[0m\u001b[0m\n\u001b[0;32m----> 5\u001b[0;31m \u001b[0;32mfrom\u001b[0m \u001b[0mjp_gene_viz\u001b[0m \u001b[0;32mimport\u001b[0m \u001b[0mdNetwork\u001b[0m\u001b[0;34m\u001b[0m\u001b[0m\n\u001b[0m\u001b[1;32m      6\u001b[0m \u001b[0mdNetwork\u001b[0m\u001b[0;34m.\u001b[0m\u001b[0mload_javascript_support\u001b[0m\u001b[0;34m(\u001b[0m\u001b[0;34m)\u001b[0m\u001b[0;34m\u001b[0m\u001b[0m\n\u001b[1;32m      7\u001b[0m \u001b[0;31m# from jp_gene_viz import multiple_network\u001b[0m\u001b[0;34m\u001b[0m\u001b[0;34m\u001b[0m\u001b[0m\n",
      "\u001b[0;32m/Users/user/Desktop/big-data_analysis/NGS_XZ/NGS/mLASSO-StARS/modeling/infTRN_lassoStARS/pancreas_NEUROG3_induction/jp_gene_viz.py\u001b[0m in \u001b[0;36m<module>\u001b[0;34m()\u001b[0m\n\u001b[1;32m     44\u001b[0m \u001b[0;32mif\u001b[0m \u001b[0;34m\"..\"\u001b[0m \u001b[0;32mnot\u001b[0m \u001b[0;32min\u001b[0m \u001b[0msys\u001b[0m\u001b[0;34m.\u001b[0m\u001b[0mpath\u001b[0m\u001b[0;34m:\u001b[0m\u001b[0;34m\u001b[0m\u001b[0m\n\u001b[1;32m     45\u001b[0m     \u001b[0msys\u001b[0m\u001b[0;34m.\u001b[0m\u001b[0mpath\u001b[0m\u001b[0;34m.\u001b[0m\u001b[0mappend\u001b[0m\u001b[0;34m(\u001b[0m\u001b[0;34m\"..\"\u001b[0m\u001b[0;34m)\u001b[0m\u001b[0;34m\u001b[0m\u001b[0m\n\u001b[0;32m---> 46\u001b[0;31m \u001b[0;32mfrom\u001b[0m \u001b[0mjp_gene_viz\u001b[0m \u001b[0;32mimport\u001b[0m \u001b[0mdNetwork\u001b[0m\u001b[0;34m\u001b[0m\u001b[0m\n\u001b[0m\u001b[1;32m     47\u001b[0m \u001b[0mdNetwork\u001b[0m\u001b[0;34m.\u001b[0m\u001b[0mload_javascript_support\u001b[0m\u001b[0;34m(\u001b[0m\u001b[0;34m)\u001b[0m\u001b[0;34m\u001b[0m\u001b[0m\n\u001b[1;32m     48\u001b[0m \u001b[0;32mfrom\u001b[0m \u001b[0mjp_gene_viz\u001b[0m \u001b[0;32mimport\u001b[0m \u001b[0mLExpression\u001b[0m\u001b[0;34m\u001b[0m\u001b[0m\n",
      "\u001b[0;31mImportError\u001b[0m: cannot import name dNetwork"
     ]
    }
   ],
   "source": [
    "import sys\n",
    "import os.path\n",
    "if \"..\" not in sys.path:\n",
    "    sys.path.append(\"..\")\n",
    "from jp_gene_viz import dNetwork\n",
    "dNetwork.load_javascript_support()\n",
    "# from jp_gene_viz import multiple_network\n",
    "from jp_gene_viz import LExpression\n",
    "LExpression.load_javascript_support()"
   ]
  },
  {
   "cell_type": "code",
   "execution_count": 4,
   "metadata": {
    "scrolled": false
   },
   "outputs": [],
   "source": [
    "for networkInit in networkInits:\n",
    "    proceed = 1\n",
    "    currCol = networkInit[1]\n",
    "    networkFile = networkInit[0]\n",
    "    fileName = directory + '/' + netPath + '/' + networkFile\n",
    "    if os.path.isfile(fileName):\n",
    "        L = LExpression.LinkedExpressionNetwork()\n",
    "        L.show()\n",
    "        L.load_network(fileName)\n",
    "        L.load_heatmap(directory + '/' + expressionFile)\n",
    "        N = L.network\n",
    "        N.set_title(networkInit[2])\n",
    "        threshhold = 1-float(tfsPerGene)/10 # because we're dealing with networks that have mean 10 TFs / gene        \n",
    "        N.threshhold_slider.value = threshhold\n",
    "        N.apply_click(None)\n",
    "        N.draw()\n",
    "        # Limit genes to target genes of interest and their putative regulators\n",
    "        geneIn = open(directory + '/' + geneListFile,'r')    \n",
    "        geneList = list()\n",
    "        for gene in geneIn:\n",
    "            geneList.append(gene.strip('\\n'))\n",
    "        geneIn.close()\n",
    "        N.pattern_text.value = \" \".join(geneList)\n",
    "        N.match_click(None)\n",
    "        N.targeted_click(None)\n",
    "        N.layout_dropdown.value = 'fruchterman_reingold'\n",
    "        N.layout_click()\n",
    "    #     N.split_click(None)\n",
    "    #     regulates_click(None)\n",
    "    #     N.layout_click(None)        \n",
    "        L.gene_click(None)    \n",
    "\n",
    "        L.expression.transform_dropdown.value = 'Z score'\n",
    "        L.expression.apply_transform()\n",
    "        L.expression.col = currCol    \n",
    "        L.condition_click(None)\n",
    "        N.labels_button.value=True\n",
    "\n"
   ]
  },
  {
   "cell_type": "code",
   "execution_count": 5,
   "metadata": {},
   "outputs": [
    {
     "ename": "NameError",
     "evalue": "name 'N' is not defined",
     "output_type": "error",
     "traceback": [
      "\u001b[0;31m---------------------------------------------------------------------------\u001b[0m",
      "\u001b[0;31mNameError\u001b[0m                                 Traceback (most recent call last)",
      "\u001b[0;32m<ipython-input-5-0f7043cbbc97>\u001b[0m in \u001b[0;36m<module>\u001b[0;34m()\u001b[0m\n\u001b[0;32m----> 1\u001b[0;31m \u001b[0mN\u001b[0m\u001b[0;34m.\u001b[0m\u001b[0mlayout_dropdownvalue\u001b[0m \u001b[0;34m=\u001b[0m \u001b[0;34m'fruchterman_reingold'\u001b[0m\u001b[0;34m\u001b[0m\u001b[0m\n\u001b[0m\u001b[1;32m      2\u001b[0m \u001b[0mN\u001b[0m\u001b[0;34m.\u001b[0m\u001b[0mlayout_click\u001b[0m\u001b[0;34m(\u001b[0m\u001b[0mNone\u001b[0m\u001b[0;34m)\u001b[0m\u001b[0;34m\u001b[0m\u001b[0m\n",
      "\u001b[0;31mNameError\u001b[0m: name 'N' is not defined"
     ]
    }
   ],
   "source": [
    "        N.layout_dropdownvalue = 'fruchterman_reingold'\n",
    "        N.layout_click(None)\n"
   ]
  },
  {
   "cell_type": "code",
   "execution_count": null,
   "metadata": {},
   "outputs": [],
   "source": []
  },
  {
   "cell_type": "code",
   "execution_count": null,
   "metadata": {},
   "outputs": [],
   "source": []
  }
 ],
 "metadata": {
  "anaconda-cloud": {},
  "kernelspec": {
   "display_name": "Python 2",
   "language": "python",
   "name": "python2"
  },
  "language_info": {
   "codemirror_mode": {
    "name": "ipython",
    "version": 2
   },
   "file_extension": ".py",
   "mimetype": "text/x-python",
   "name": "python",
   "nbconvert_exporter": "python",
   "pygments_lexer": "ipython2",
   "version": "2.7.15"
  },
  "widgets": {
   "state": {},
   "version": "1.1.2"
  }
 },
 "nbformat": 4,
 "nbformat_minor": 1
}
