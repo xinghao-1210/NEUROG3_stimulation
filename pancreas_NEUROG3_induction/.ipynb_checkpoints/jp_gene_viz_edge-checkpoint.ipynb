{
 "cells": [
  {
   "cell_type": "code",
   "execution_count": 11,
   "metadata": {},
   "outputs": [],
   "source": [
    "# Visualization of TF-TF module analyses for POSITIVE EDGES (57 clusters) Top 15, most\n",
    "# significant clusters.\n",
    "# Pokrovskii,... Miraldi et al. (2019) \"Transcriptional regulatory networks that promote and\n",
    "# restrict identities and functions of intestinal innate lymphoid cells\"\n",
    "\n",
    "# TO START: In the menu above, choose \"Cell\" --> \"Run All\", and network + heatmap will load\n",
    "# NOTE: Default limits networks to TF-TF edges in top 1 TF / gene model (.93 quantile), to see the full\n",
    "# network hit \"restore\" (in the drop-down menu in cell below) and set threshold to 0 and hit \"threshold\"\n",
    "# You can search for gene names in the search box below the network (hit \"Match\"), and find regulators (\"targeted by\")\n",
    "# Change \"canvas\" to \"SVG\" (drop-down menu in cell below) to enable drag interactions with nodes & labels\n",
    "# Change \"SVG\" to \"canvas\" to speed up layout operations\n",
    "# More info about jp_gene_viz and user interface instructions are available on Github:\n",
    "# https://github.com/simonsfoundation/jp_gene_viz/blob/master/doc/dNetwork%20widget%20overview.ipynb"
   ]
  },
  {
   "cell_type": "code",
   "execution_count": 12,
   "metadata": {},
   "outputs": [],
   "source": [
    "# Edge key:\n",
    "# Solid lines -- supported by ATAC-seq data and gene expression modeling\n",
    "# Dotted lines -- supported by gene expression modeling only\n",
    "\n",
    "## Note there are three different ways to visualize modules and target genes:\n",
    "# 1.  \"union\" -- look at the union of all module TF gene targets (least stringent)\n",
    "# 2.  \"min2\" -- limit to target genes shared by minimum of 2 module TFs\n",
    "# 3.  \"p50\" -- limit to target genes shared by >50% of module TFs (most stringent, helpful\n",
    "#         for finding a common set of target genes in larger clusters)\n",
    "targetDefinition = 'min2'  # you can set this parameter"
   ]
  },
  {
   "cell_type": "code",
   "execution_count": 29,
   "metadata": {},
   "outputs": [],
   "source": [
    "# cond_time choose in 8,24,48,72\n",
    "cond_time=8\n",
    "# directory containing gene expression data and network folder\n",
    "directory = \".\"\n",
    "# folder containing networks\n",
    "netPath = \"outputs/networks_targ0p05_SS50_bS5/Network0p05_10tfsPerGene/prior_atac_Miraldi_q_ChIP_bias10_maxComb/prior_atac_Miraldi_q_ChIP_bias10_maxComb_cut01/zOverlaps_combEdge_fdr0.001_tfMin20_targMin1_%dhpi/Top15_Networks_clust50\"%cond_time\n",
    "\n",
    "# gene expression file\n",
    "expressionFile = \"inputs/geneExpression/RNAseq_8_DESeq2_VSDcounts.txt\" #\"fineILCs_uv156_VSTcounts_zscore_FDR10_genes_clust.tsv\"\n",
    "initialNodeCondition = 'WT_pan_100_%dhpi'%cond_time\n",
    "\n",
    "# set model size, mean # of TFs / genes, with maximum being ~10 TFs / gene\n",
    "tfsPerGene = 10\n",
    "\n",
    "labelsOn=False"
   ]
  },
  {
   "cell_type": "code",
   "execution_count": 30,
   "metadata": {
    "scrolled": false
   },
   "outputs": [
    {
     "data": {
      "application/vnd.jupyter.widget-view+json": {
       "model_id": "6b276796d2b64877ad3d05f77c559058",
       "version_major": 2,
       "version_minor": 0
      },
      "text/plain": [
       "VkJveChjaGlsZHJlbj0oSEJveChjaGlsZHJlbj0oVkJveChjaGlsZHJlbj0oRHJvcGRvd24obGF5b3V0PUxheW91dCh3aWR0aD11JzE1MHB4JyksIG9wdGlvbnM9KCdTVkcnLCAnY2FudmFzJynigKY=\n"
      ]
     },
     "metadata": {},
     "output_type": "display_data"
    },
    {
     "name": "stdout",
     "output_type": "stream",
     "text": [
      "('Reading network', './outputs/networks_targ0p05_SS50_bS5/Network0p05_10tfsPerGene/prior_atac_Miraldi_q_ChIP_bias10_maxComb/prior_atac_Miraldi_q_ChIP_bias10_maxComb_cut01/zOverlaps_combEdge_fdr0.001_tfMin20_targMin1_72hpi/Top15_Networks_clust50/EHF_ELF3_ELF5_RUNX1_TFCP2L1_TP63_min2Targs_sp.tsv')\n",
      "Computing layout\n",
      "('Saving layout', './outputs/networks_targ0p05_SS50_bS5/Network0p05_10tfsPerGene/prior_atac_Miraldi_q_ChIP_bias10_maxComb/prior_atac_Miraldi_q_ChIP_bias10_maxComb_cut01/zOverlaps_combEdge_fdr0.001_tfMin20_targMin1_72hpi/Top15_Networks_clust50/EHF_ELF3_ELF5_RUNX1_TFCP2L1_TP63_min2Targs_sp.tsv.layout.json')\n"
     ]
    },
    {
     "data": {
      "application/vnd.jupyter.widget-view+json": {
       "model_id": "3a534154a08746d0845b08550ace6143",
       "version_major": 2,
       "version_minor": 0
      },
      "text/plain": [
       "VkJveChjaGlsZHJlbj0oSEJveChjaGlsZHJlbj0oVkJveChjaGlsZHJlbj0oRHJvcGRvd24obGF5b3V0PUxheW91dCh3aWR0aD11JzE1MHB4JyksIG9wdGlvbnM9KCdTVkcnLCAnY2FudmFzJynigKY=\n"
      ]
     },
     "metadata": {},
     "output_type": "display_data"
    },
    {
     "name": "stdout",
     "output_type": "stream",
     "text": [
      "('Reading network', './outputs/networks_targ0p05_SS50_bS5/Network0p05_10tfsPerGene/prior_atac_Miraldi_q_ChIP_bias10_maxComb/prior_atac_Miraldi_q_ChIP_bias10_maxComb_cut01/zOverlaps_combEdge_fdr0.001_tfMin20_targMin1_72hpi/Top15_Networks_clust50/CCDC169-SOHLH2_SOHLH2_min2Targs_sp.tsv')\n",
      "Computing layout\n",
      "('Saving layout', './outputs/networks_targ0p05_SS50_bS5/Network0p05_10tfsPerGene/prior_atac_Miraldi_q_ChIP_bias10_maxComb/prior_atac_Miraldi_q_ChIP_bias10_maxComb_cut01/zOverlaps_combEdge_fdr0.001_tfMin20_targMin1_72hpi/Top15_Networks_clust50/CCDC169-SOHLH2_SOHLH2_min2Targs_sp.tsv.layout.json')\n"
     ]
    },
    {
     "data": {
      "application/vnd.jupyter.widget-view+json": {
       "model_id": "efd782bd07c14fb2808ee57b578d57b4",
       "version_major": 2,
       "version_minor": 0
      },
      "text/plain": [
       "VkJveChjaGlsZHJlbj0oSEJveChjaGlsZHJlbj0oVkJveChjaGlsZHJlbj0oRHJvcGRvd24obGF5b3V0PUxheW91dCh3aWR0aD11JzE1MHB4JyksIG9wdGlvbnM9KCdTVkcnLCAnY2FudmFzJynigKY=\n"
      ]
     },
     "metadata": {},
     "output_type": "display_data"
    },
    {
     "name": "stdout",
     "output_type": "stream",
     "text": [
      "('Reading network', './outputs/networks_targ0p05_SS50_bS5/Network0p05_10tfsPerGene/prior_atac_Miraldi_q_ChIP_bias10_maxComb/prior_atac_Miraldi_q_ChIP_bias10_maxComb_cut01/zOverlaps_combEdge_fdr0.001_tfMin20_targMin1_72hpi/Top15_Networks_clust50/ESRRB_GATA3_MSX2_min2Targs_sp.tsv')\n",
      "Computing layout\n",
      "('Saving layout', './outputs/networks_targ0p05_SS50_bS5/Network0p05_10tfsPerGene/prior_atac_Miraldi_q_ChIP_bias10_maxComb/prior_atac_Miraldi_q_ChIP_bias10_maxComb_cut01/zOverlaps_combEdge_fdr0.001_tfMin20_targMin1_72hpi/Top15_Networks_clust50/ESRRB_GATA3_MSX2_min2Targs_sp.tsv.layout.json')\n"
     ]
    },
    {
     "data": {
      "application/vnd.jupyter.widget-view+json": {
       "model_id": "fce04c0cf52a49b2a16329707ae4b633",
       "version_major": 2,
       "version_minor": 0
      },
      "text/plain": [
       "VkJveChjaGlsZHJlbj0oSEJveChjaGlsZHJlbj0oVkJveChjaGlsZHJlbj0oRHJvcGRvd24obGF5b3V0PUxheW91dCh3aWR0aD11JzE1MHB4JyksIG9wdGlvbnM9KCdTVkcnLCAnY2FudmFzJynigKY=\n"
      ]
     },
     "metadata": {},
     "output_type": "display_data"
    },
    {
     "name": "stdout",
     "output_type": "stream",
     "text": [
      "('Reading network', './outputs/networks_targ0p05_SS50_bS5/Network0p05_10tfsPerGene/prior_atac_Miraldi_q_ChIP_bias10_maxComb/prior_atac_Miraldi_q_ChIP_bias10_maxComb_cut01/zOverlaps_combEdge_fdr0.001_tfMin20_targMin1_72hpi/Top15_Networks_clust50/MAFA_NKX2-2_NKX2-8_min2Targs_sp.tsv')\n",
      "Computing layout\n",
      "('Saving layout', './outputs/networks_targ0p05_SS50_bS5/Network0p05_10tfsPerGene/prior_atac_Miraldi_q_ChIP_bias10_maxComb/prior_atac_Miraldi_q_ChIP_bias10_maxComb_cut01/zOverlaps_combEdge_fdr0.001_tfMin20_targMin1_72hpi/Top15_Networks_clust50/MAFA_NKX2-2_NKX2-8_min2Targs_sp.tsv.layout.json')\n"
     ]
    },
    {
     "data": {
      "application/vnd.jupyter.widget-view+json": {
       "model_id": "b0f7706b9c854f82a20fe3d05d0a8422",
       "version_major": 2,
       "version_minor": 0
      },
      "text/plain": [
       "VkJveChjaGlsZHJlbj0oSEJveChjaGlsZHJlbj0oVkJveChjaGlsZHJlbj0oRHJvcGRvd24obGF5b3V0PUxheW91dCh3aWR0aD11JzE1MHB4JyksIG9wdGlvbnM9KCdTVkcnLCAnY2FudmFzJynigKY=\n"
      ]
     },
     "metadata": {},
     "output_type": "display_data"
    },
    {
     "name": "stdout",
     "output_type": "stream",
     "text": [
      "('Reading network', './outputs/networks_targ0p05_SS50_bS5/Network0p05_10tfsPerGene/prior_atac_Miraldi_q_ChIP_bias10_maxComb/prior_atac_Miraldi_q_ChIP_bias10_maxComb_cut01/zOverlaps_combEdge_fdr0.001_tfMin20_targMin1_72hpi/Top15_Networks_clust50/LHX6_MECOM_POU3F4_min2Targs_sp.tsv')\n",
      "Computing layout\n",
      "('Saving layout', './outputs/networks_targ0p05_SS50_bS5/Network0p05_10tfsPerGene/prior_atac_Miraldi_q_ChIP_bias10_maxComb/prior_atac_Miraldi_q_ChIP_bias10_maxComb_cut01/zOverlaps_combEdge_fdr0.001_tfMin20_targMin1_72hpi/Top15_Networks_clust50/LHX6_MECOM_POU3F4_min2Targs_sp.tsv.layout.json')\n"
     ]
    },
    {
     "data": {
      "application/vnd.jupyter.widget-view+json": {
       "model_id": "e03498e28a014027864dfd49f02a16d4",
       "version_major": 2,
       "version_minor": 0
      },
      "text/plain": [
       "VkJveChjaGlsZHJlbj0oSEJveChjaGlsZHJlbj0oVkJveChjaGlsZHJlbj0oRHJvcGRvd24obGF5b3V0PUxheW91dCh3aWR0aD11JzE1MHB4JyksIG9wdGlvbnM9KCdTVkcnLCAnY2FudmFzJynigKY=\n"
      ]
     },
     "metadata": {},
     "output_type": "display_data"
    },
    {
     "name": "stdout",
     "output_type": "stream",
     "text": [
      "('Reading network', './outputs/networks_targ0p05_SS50_bS5/Network0p05_10tfsPerGene/prior_atac_Miraldi_q_ChIP_bias10_maxComb/prior_atac_Miraldi_q_ChIP_bias10_maxComb_cut01/zOverlaps_combEdge_fdr0.001_tfMin20_targMin1_72hpi/Top15_Networks_clust50/FLI1_HOXB2_NR4A2_RXRG_min2Targs_sp.tsv')\n",
      "Computing layout\n",
      "('Saving layout', './outputs/networks_targ0p05_SS50_bS5/Network0p05_10tfsPerGene/prior_atac_Miraldi_q_ChIP_bias10_maxComb/prior_atac_Miraldi_q_ChIP_bias10_maxComb_cut01/zOverlaps_combEdge_fdr0.001_tfMin20_targMin1_72hpi/Top15_Networks_clust50/FLI1_HOXB2_NR4A2_RXRG_min2Targs_sp.tsv.layout.json')\n"
     ]
    },
    {
     "data": {
      "application/vnd.jupyter.widget-view+json": {
       "model_id": "b25bf57c23b54b668c7eedcb63c263de",
       "version_major": 2,
       "version_minor": 0
      },
      "text/plain": [
       "VkJveChjaGlsZHJlbj0oSEJveChjaGlsZHJlbj0oVkJveChjaGlsZHJlbj0oRHJvcGRvd24obGF5b3V0PUxheW91dCh3aWR0aD11JzE1MHB4JyksIG9wdGlvbnM9KCdTVkcnLCAnY2FudmFzJynigKY=\n"
      ]
     },
     "metadata": {},
     "output_type": "display_data"
    },
    {
     "name": "stdout",
     "output_type": "stream",
     "text": [
      "('Reading network', './outputs/networks_targ0p05_SS50_bS5/Network0p05_10tfsPerGene/prior_atac_Miraldi_q_ChIP_bias10_maxComb/prior_atac_Miraldi_q_ChIP_bias10_maxComb_cut01/zOverlaps_combEdge_fdr0.001_tfMin20_targMin1_72hpi/Top15_Networks_clust50/EGR1_EGR3_GATA2_HOXD4_LHX8_NEUROG3_min2Targs_sp.tsv')\n",
      "Computing layout\n",
      "('Saving layout', './outputs/networks_targ0p05_SS50_bS5/Network0p05_10tfsPerGene/prior_atac_Miraldi_q_ChIP_bias10_maxComb/prior_atac_Miraldi_q_ChIP_bias10_maxComb_cut01/zOverlaps_combEdge_fdr0.001_tfMin20_targMin1_72hpi/Top15_Networks_clust50/EGR1_EGR3_GATA2_HOXD4_LHX8_NEUROG3_min2Targs_sp.tsv.layout.json')\n"
     ]
    },
    {
     "data": {
      "application/vnd.jupyter.widget-view+json": {
       "model_id": "19e65deb42dc4cfeb4f9d1d03d3ee1ec",
       "version_major": 2,
       "version_minor": 0
      },
      "text/plain": [
       "VkJveChjaGlsZHJlbj0oSEJveChjaGlsZHJlbj0oVkJveChjaGlsZHJlbj0oRHJvcGRvd24obGF5b3V0PUxheW91dCh3aWR0aD11JzE1MHB4JyksIG9wdGlvbnM9KCdTVkcnLCAnY2FudmFzJynigKY=\n"
      ]
     },
     "metadata": {},
     "output_type": "display_data"
    },
    {
     "name": "stdout",
     "output_type": "stream",
     "text": [
      "('Reading network', './outputs/networks_targ0p05_SS50_bS5/Network0p05_10tfsPerGene/prior_atac_Miraldi_q_ChIP_bias10_maxComb/prior_atac_Miraldi_q_ChIP_bias10_maxComb_cut01/zOverlaps_combEdge_fdr0.001_tfMin20_targMin1_72hpi/Top15_Networks_clust50/IRX3_KLF11_min2Targs_sp.tsv')\n",
      "Computing layout\n",
      "('Saving layout', './outputs/networks_targ0p05_SS50_bS5/Network0p05_10tfsPerGene/prior_atac_Miraldi_q_ChIP_bias10_maxComb/prior_atac_Miraldi_q_ChIP_bias10_maxComb_cut01/zOverlaps_combEdge_fdr0.001_tfMin20_targMin1_72hpi/Top15_Networks_clust50/IRX3_KLF11_min2Targs_sp.tsv.layout.json')\n"
     ]
    },
    {
     "data": {
      "application/vnd.jupyter.widget-view+json": {
       "model_id": "9dbbf6b2bbaf4b3d937030d7f9c00543",
       "version_major": 2,
       "version_minor": 0
      },
      "text/plain": [
       "VkJveChjaGlsZHJlbj0oSEJveChjaGlsZHJlbj0oVkJveChjaGlsZHJlbj0oRHJvcGRvd24obGF5b3V0PUxheW91dCh3aWR0aD11JzE1MHB4JyksIG9wdGlvbnM9KCdTVkcnLCAnY2FudmFzJynigKY=\n"
      ]
     },
     "metadata": {},
     "output_type": "display_data"
    },
    {
     "name": "stdout",
     "output_type": "stream",
     "text": [
      "('Reading network', './outputs/networks_targ0p05_SS50_bS5/Network0p05_10tfsPerGene/prior_atac_Miraldi_q_ChIP_bias10_maxComb/prior_atac_Miraldi_q_ChIP_bias10_maxComb_cut01/zOverlaps_combEdge_fdr0.001_tfMin20_targMin1_72hpi/Top15_Networks_clust50/ALX4_FOXC1_IRF4_min2Targs_sp.tsv')\n",
      "Computing layout\n",
      "('Saving layout', './outputs/networks_targ0p05_SS50_bS5/Network0p05_10tfsPerGene/prior_atac_Miraldi_q_ChIP_bias10_maxComb/prior_atac_Miraldi_q_ChIP_bias10_maxComb_cut01/zOverlaps_combEdge_fdr0.001_tfMin20_targMin1_72hpi/Top15_Networks_clust50/ALX4_FOXC1_IRF4_min2Targs_sp.tsv.layout.json')\n"
     ]
    },
    {
     "data": {
      "application/vnd.jupyter.widget-view+json": {
       "model_id": "51762e13f4f14cdc84775ac92b9df76e",
       "version_major": 2,
       "version_minor": 0
      },
      "text/plain": [
       "VkJveChjaGlsZHJlbj0oSEJveChjaGlsZHJlbj0oVkJveChjaGlsZHJlbj0oRHJvcGRvd24obGF5b3V0PUxheW91dCh3aWR0aD11JzE1MHB4JyksIG9wdGlvbnM9KCdTVkcnLCAnY2FudmFzJynigKY=\n"
      ]
     },
     "metadata": {},
     "output_type": "display_data"
    },
    {
     "name": "stdout",
     "output_type": "stream",
     "text": [
      "('Reading network', './outputs/networks_targ0p05_SS50_bS5/Network0p05_10tfsPerGene/prior_atac_Miraldi_q_ChIP_bias10_maxComb/prior_atac_Miraldi_q_ChIP_bias10_maxComb_cut01/zOverlaps_combEdge_fdr0.001_tfMin20_targMin1_72hpi/Top15_Networks_clust50/ETV1_IRX1_OSR2_SOX1_min2Targs_sp.tsv')\n",
      "Computing layout\n",
      "('Saving layout', './outputs/networks_targ0p05_SS50_bS5/Network0p05_10tfsPerGene/prior_atac_Miraldi_q_ChIP_bias10_maxComb/prior_atac_Miraldi_q_ChIP_bias10_maxComb_cut01/zOverlaps_combEdge_fdr0.001_tfMin20_targMin1_72hpi/Top15_Networks_clust50/ETV1_IRX1_OSR2_SOX1_min2Targs_sp.tsv.layout.json')\n"
     ]
    },
    {
     "data": {
      "application/vnd.jupyter.widget-view+json": {
       "model_id": "862d1c5ab61f483c99d9f32693568a59",
       "version_major": 2,
       "version_minor": 0
      },
      "text/plain": [
       "VkJveChjaGlsZHJlbj0oSEJveChjaGlsZHJlbj0oVkJveChjaGlsZHJlbj0oRHJvcGRvd24obGF5b3V0PUxheW91dCh3aWR0aD11JzE1MHB4JyksIG9wdGlvbnM9KCdTVkcnLCAnY2FudmFzJynigKY=\n"
      ]
     },
     "metadata": {},
     "output_type": "display_data"
    },
    {
     "name": "stdout",
     "output_type": "stream",
     "text": [
      "('Reading network', './outputs/networks_targ0p05_SS50_bS5/Network0p05_10tfsPerGene/prior_atac_Miraldi_q_ChIP_bias10_maxComb/prior_atac_Miraldi_q_ChIP_bias10_maxComb_cut01/zOverlaps_combEdge_fdr0.001_tfMin20_targMin1_72hpi/Top15_Networks_clust50/EBF1_EBF3_FOXJ1_GFI1_LMX1A_min2Targs_sp.tsv')\n",
      "Computing layout\n",
      "('Saving layout', './outputs/networks_targ0p05_SS50_bS5/Network0p05_10tfsPerGene/prior_atac_Miraldi_q_ChIP_bias10_maxComb/prior_atac_Miraldi_q_ChIP_bias10_maxComb_cut01/zOverlaps_combEdge_fdr0.001_tfMin20_targMin1_72hpi/Top15_Networks_clust50/EBF1_EBF3_FOXJ1_GFI1_LMX1A_min2Targs_sp.tsv.layout.json')\n"
     ]
    },
    {
     "data": {
      "application/vnd.jupyter.widget-view+json": {
       "model_id": "067c4bdaabfc4507892e67ce97ebe69c",
       "version_major": 2,
       "version_minor": 0
      },
      "text/plain": [
       "VkJveChjaGlsZHJlbj0oSEJveChjaGlsZHJlbj0oVkJveChjaGlsZHJlbj0oRHJvcGRvd24obGF5b3V0PUxheW91dCh3aWR0aD11JzE1MHB4JyksIG9wdGlvbnM9KCdTVkcnLCAnY2FudmFzJynigKY=\n"
      ]
     },
     "metadata": {},
     "output_type": "display_data"
    },
    {
     "name": "stdout",
     "output_type": "stream",
     "text": [
      "('Reading network', './outputs/networks_targ0p05_SS50_bS5/Network0p05_10tfsPerGene/prior_atac_Miraldi_q_ChIP_bias10_maxComb/prior_atac_Miraldi_q_ChIP_bias10_maxComb_cut01/zOverlaps_combEdge_fdr0.001_tfMin20_targMin1_72hpi/Top15_Networks_clust50/FOXC2_RARB_TBX3_min2Targs_sp.tsv')\n",
      "Computing layout\n",
      "('Saving layout', './outputs/networks_targ0p05_SS50_bS5/Network0p05_10tfsPerGene/prior_atac_Miraldi_q_ChIP_bias10_maxComb/prior_atac_Miraldi_q_ChIP_bias10_maxComb_cut01/zOverlaps_combEdge_fdr0.001_tfMin20_targMin1_72hpi/Top15_Networks_clust50/FOXC2_RARB_TBX3_min2Targs_sp.tsv.layout.json')\n"
     ]
    },
    {
     "data": {
      "application/vnd.jupyter.widget-view+json": {
       "model_id": "36b23aa66332400f8c2a988bc8f13cfc",
       "version_major": 2,
       "version_minor": 0
      },
      "text/plain": [
       "VkJveChjaGlsZHJlbj0oSEJveChjaGlsZHJlbj0oVkJveChjaGlsZHJlbj0oRHJvcGRvd24obGF5b3V0PUxheW91dCh3aWR0aD11JzE1MHB4JyksIG9wdGlvbnM9KCdTVkcnLCAnY2FudmFzJynigKY=\n"
      ]
     },
     "metadata": {},
     "output_type": "display_data"
    },
    {
     "name": "stdout",
     "output_type": "stream",
     "text": [
      "('Reading network', './outputs/networks_targ0p05_SS50_bS5/Network0p05_10tfsPerGene/prior_atac_Miraldi_q_ChIP_bias10_maxComb/prior_atac_Miraldi_q_ChIP_bias10_maxComb_cut01/zOverlaps_combEdge_fdr0.001_tfMin20_targMin1_72hpi/Top15_Networks_clust50/CEBPA_EGR2_ESRRG_LHX1_MEF2C_min2Targs_sp.tsv')\n",
      "Computing layout\n",
      "('Saving layout', './outputs/networks_targ0p05_SS50_bS5/Network0p05_10tfsPerGene/prior_atac_Miraldi_q_ChIP_bias10_maxComb/prior_atac_Miraldi_q_ChIP_bias10_maxComb_cut01/zOverlaps_combEdge_fdr0.001_tfMin20_targMin1_72hpi/Top15_Networks_clust50/CEBPA_EGR2_ESRRG_LHX1_MEF2C_min2Targs_sp.tsv.layout.json')\n"
     ]
    },
    {
     "data": {
      "application/vnd.jupyter.widget-view+json": {
       "model_id": "4a8e9e5c30b64608a3dbd15a229b48d8",
       "version_major": 2,
       "version_minor": 0
      },
      "text/plain": [
       "VkJveChjaGlsZHJlbj0oSEJveChjaGlsZHJlbj0oVkJveChjaGlsZHJlbj0oRHJvcGRvd24obGF5b3V0PUxheW91dCh3aWR0aD11JzE1MHB4JyksIG9wdGlvbnM9KCdTVkcnLCAnY2FudmFzJynigKY=\n"
      ]
     },
     "metadata": {},
     "output_type": "display_data"
    },
    {
     "name": "stdout",
     "output_type": "stream",
     "text": [
      "('Reading network', './outputs/networks_targ0p05_SS50_bS5/Network0p05_10tfsPerGene/prior_atac_Miraldi_q_ChIP_bias10_maxComb/prior_atac_Miraldi_q_ChIP_bias10_maxComb_cut01/zOverlaps_combEdge_fdr0.001_tfMin20_targMin1_72hpi/Top15_Networks_clust50/FEV_NR4A3_TBX20_ZIC2_min2Targs_sp.tsv')\n",
      "Computing layout\n",
      "('Saving layout', './outputs/networks_targ0p05_SS50_bS5/Network0p05_10tfsPerGene/prior_atac_Miraldi_q_ChIP_bias10_maxComb/prior_atac_Miraldi_q_ChIP_bias10_maxComb_cut01/zOverlaps_combEdge_fdr0.001_tfMin20_targMin1_72hpi/Top15_Networks_clust50/FEV_NR4A3_TBX20_ZIC2_min2Targs_sp.tsv.layout.json')\n"
     ]
    },
    {
     "data": {
      "application/vnd.jupyter.widget-view+json": {
       "model_id": "80a5ad5faf6e4a939c9c5db2788d0b49",
       "version_major": 2,
       "version_minor": 0
      },
      "text/plain": [
       "VkJveChjaGlsZHJlbj0oSEJveChjaGlsZHJlbj0oVkJveChjaGlsZHJlbj0oRHJvcGRvd24obGF5b3V0PUxheW91dCh3aWR0aD11JzE1MHB4JyksIG9wdGlvbnM9KCdTVkcnLCAnY2FudmFzJynigKY=\n"
      ]
     },
     "metadata": {},
     "output_type": "display_data"
    },
    {
     "name": "stdout",
     "output_type": "stream",
     "text": [
      "('Reading network', './outputs/networks_targ0p05_SS50_bS5/Network0p05_10tfsPerGene/prior_atac_Miraldi_q_ChIP_bias10_maxComb/prior_atac_Miraldi_q_ChIP_bias10_maxComb_cut01/zOverlaps_combEdge_fdr0.001_tfMin20_targMin1_72hpi/Top15_Networks_clust50/MYT1L_ST18_min2Targs_sp.tsv')\n",
      "Computing layout\n",
      "('Saving layout', './outputs/networks_targ0p05_SS50_bS5/Network0p05_10tfsPerGene/prior_atac_Miraldi_q_ChIP_bias10_maxComb/prior_atac_Miraldi_q_ChIP_bias10_maxComb_cut01/zOverlaps_combEdge_fdr0.001_tfMin20_targMin1_72hpi/Top15_Networks_clust50/MYT1L_ST18_min2Targs_sp.tsv.layout.json')\n"
     ]
    }
   ],
   "source": [
    "import glob\n",
    "import os\n",
    "import sys\n",
    "if \"..\" not in sys.path:\n",
    "    sys.path.append(\"..\")\n",
    "from jp_gene_viz import dNetwork\n",
    "dNetwork.load_javascript_support()\n",
    "from jp_gene_viz import LExpression\n",
    "LExpression.load_javascript_support()\n",
    "\n",
    "currCol = initialNodeCondition\n",
    "directory = \".\"\n",
    "for networkFile in glob.glob(directory + '/' + netPath + '/*_' + targetDefinition +  'Targs_sp.tsv'):\n",
    "    networkName = networkFile.replace(directory+'/'+netPath+'/','')\n",
    "    networkName = networkName.replace('_' + targetDefinition +  'Targs_sp.tsv','')\n",
    "    L = LExpression.LinkedExpressionNetwork()\n",
    "    L.show()\n",
    "    L.load_network(networkFile)\n",
    "    L.load_heatmap(directory + '/' + expressionFile)\n",
    "    N = L.network\n",
    "    N.set_title(networkName.replace('_',' '))\n",
    "\n",
    "    # set threshold\n",
    "    threshhold = max(0,1-float(tfsPerGene)/10) # because we're dealing with networks that have mean 10 TFs / gene\n",
    "    N.threshhold_slider.value = threshhold\n",
    "    N.apply_click(None)\n",
    "    N.draw()\n",
    "\n",
    "    # apply network layout\n",
    "    N.layout_dropdownvalue = 'fruchterman_reingold'\n",
    "    N.layout_click(None)\n",
    "\n",
    "    # z-score gene expression for nodes\n",
    "    L.gene_click(None)\n",
    "    L.expression.transform_dropdown.value = 'Z score'\n",
    "    L.expression.apply_transform()\n",
    "    L.expression.col = currCol\n",
    "    #L.condition_click(None)\n",
    "\n",
    "    # turn on labels\n",
    "    N.labels_button.value=labelsOn\n",
    "    N.draw_click(None)\n"
   ]
  },
  {
   "cell_type": "code",
   "execution_count": null,
   "metadata": {},
   "outputs": [],
   "source": []
  },
  {
   "cell_type": "code",
   "execution_count": null,
   "metadata": {},
   "outputs": [],
   "source": []
  }
 ],
 "metadata": {
  "kernelspec": {
   "display_name": "Python 2",
   "language": "python",
   "name": "python2"
  },
  "language_info": {
   "codemirror_mode": {
    "name": "ipython",
    "version": 2
   },
   "file_extension": ".py",
   "mimetype": "text/x-python",
   "name": "python",
   "nbconvert_exporter": "python",
   "pygments_lexer": "ipython2",
   "version": "2.7.15"
  }
 },
 "nbformat": 4,
 "nbformat_minor": 2
}
